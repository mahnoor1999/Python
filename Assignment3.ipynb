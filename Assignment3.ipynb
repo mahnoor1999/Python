{
 "cells": [
  {
   "cell_type": "code",
   "execution_count": 23,
   "metadata": {},
   "outputs": [
    {
     "name": "stdout",
     "output_type": "stream",
     "text": [
      "Enter number9\n",
      "Enter operator-\n",
      "Enter number or exponent8\n",
      "1\n"
     ]
    }
   ],
   "source": [
    "a=int(input(\"Enter number\")) \n",
    "c=(input(\"Enter operator\"))\n",
    "b=int(input(\"Enter number or exponent\"))\n",
    "if (c == \"+\"):\n",
    "    print(a+b)\n",
    "elif (c ==\"-\"):\n",
    "    print(a-b)\n",
    "elif(c ==\"*\"):\n",
    "    print(a*b)\n",
    "elif(c ==\"/\"):\n",
    "    print(a/b)\n",
    "elif(c ==\"^\"):\n",
    "    print(a**b)\n",
    "else:\n",
    "    print(\"invalid operator\" )\n",
    "\n"
   ]
  },
  {
   "cell_type": "code",
   "execution_count": 25,
   "metadata": {},
   "outputs": [
    {
     "name": "stdout",
     "output_type": "stream",
     "text": [
      "numeric value \n",
      "not a numeric value \n",
      "numeric value \n",
      "not a numeric value \n",
      "not a numeric value \n"
     ]
    }
   ],
   "source": [
    "mylist =[  9, \"xxx\", 9 ,\"78\", \"98\"]\n",
    "for number in mylist:\n",
    "    if number == str (number):\n",
    "        print(\"not a numeric value \")\n",
    "    else:\n",
    "        print(\"numeric value \")"
   ]
  },
  {
   "cell_type": "code",
   "execution_count": 26,
   "metadata": {},
   "outputs": [
    {
     "name": "stdout",
     "output_type": "stream",
     "text": [
      "{'student': 'mahnoor', 'class': '7', 'Roll no': '78'}\n",
      "{'student': 'mahnoor', 'class': '7', 'Roll no': '78', 'subject': 'english'}\n"
     ]
    }
   ],
   "source": [
    "myclass = {\"student\":\"mahnoor\", \"class\":\"7\",\"Roll no\":\"78\"}\n",
    "print (myclass)\n",
    "myclass[\"subject\"]=\"english\"\n",
    "print (myclass)"
   ]
  },
  {
   "cell_type": "code",
   "execution_count": 27,
   "metadata": {},
   "outputs": [
    {
     "name": "stdout",
     "output_type": "stream",
     "text": [
      "111\n"
     ]
    }
   ],
   "source": [
    "marks={\"ali\":45,\"zaib\":43,\"zee\":23}\n",
    "print(sum(marks.values()))"
   ]
  },
  {
   "cell_type": "code",
   "execution_count": 28,
   "metadata": {},
   "outputs": [
    {
     "name": "stdout",
     "output_type": "stream",
     "text": [
      "[1, 2, 3, 4, 5, 9]\n"
     ]
    }
   ],
   "source": [
    "list2 = [1,2,1,3,1,4,1,4,2,5,9]\n",
    "unique = []\n",
    "for number in list2:\n",
    "    if number not in unique:\n",
    "        unique.append(number)\n",
    "print (unique)"
   ]
  },
  {
   "cell_type": "code",
   "execution_count": null,
   "metadata": {},
   "outputs": [],
   "source": [
    "a= {6:5, 8:4 ,3:9}\n",
    "b= int(input())\n",
    "if a in b:\n",
    "    print(\"already exist\")\n",
    "else:\n",
    "    print(\"not exists\")"
   ]
  },
  {
   "cell_type": "code",
   "execution_count": null,
   "metadata": {},
   "outputs": [],
   "source": []
  }
 ],
 "metadata": {
  "kernelspec": {
   "display_name": "Python 3",
   "language": "python",
   "name": "python3"
  },
  "language_info": {
   "codemirror_mode": {
    "name": "ipython",
    "version": 3
   },
   "file_extension": ".py",
   "mimetype": "text/x-python",
   "name": "python",
   "nbconvert_exporter": "python",
   "pygments_lexer": "ipython3",
   "version": "3.7.4"
  }
 },
 "nbformat": 4,
 "nbformat_minor": 2
}
