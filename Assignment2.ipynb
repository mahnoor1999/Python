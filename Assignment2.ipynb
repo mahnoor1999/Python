{
 "cells": [
  {
   "cell_type": "code",
   "execution_count": 24,
   "metadata": {},
   "outputs": [
    {
     "name": "stdout",
     "output_type": "stream",
     "text": [
      "enter eng marks81\n",
      "enter urdu marks73\n",
      "enter math marks83\n",
      "enter comp marks67\n",
      "enter sci marks77\n",
      "obtained marks 381\n",
      "percentage is 76.2\n",
      "Grade = A\n"
     ]
    }
   ],
   "source": [
    "a= int(input(\"enter eng marks\"))\n",
    "b= int(input(\"enter urdu marks\"))\n",
    "c= int(input(\"enter math marks\"))\n",
    "d= int(input(\"enter comp marks\"))\n",
    "e= int(input(\"enter sci marks\"))\n",
    "obtmarks=a+b+c+d+e\n",
    "print(\"obtained marks\",obtmarks)\n",
    "per=float(obtmarks)*(100/500)\n",
    "print(\"percentage is\",per)\n",
    "if (per>=80):\n",
    "    print(\"Grade = A1\")\n",
    "elif(per>=70):\n",
    "    print(\"Grade = A\")\n",
    "elif(per>=60):\n",
    "    print(\"Grade B\")\n",
    "elif(per>=50):\n",
    "    print(\"Grade C\")\n",
    "else:\n",
    "    print(\"f\")"
   ]
  },
  {
   "cell_type": "code",
   "execution_count": 1,
   "metadata": {},
   "outputs": [
    {
     "name": "stdout",
     "output_type": "stream",
     "text": [
      "enter number6\n",
      "even\n"
     ]
    }
   ],
   "source": [
    "a=int(input(\"enter number\"))\n",
    "if(a%2==0):\n",
    "    print(\"even\")\n",
    "else:\n",
    "    print(\"odd\")"
   ]
  },
  {
   "cell_type": "code",
   "execution_count": 2,
   "metadata": {},
   "outputs": [
    {
     "data": {
      "text/plain": [
       "5"
      ]
     },
     "execution_count": 2,
     "metadata": {},
     "output_type": "execute_result"
    }
   ],
   "source": [
    "list=[\"e\", \"b\", \"c\", \"mono\",\"tata\" ]\n",
    "len(list)"
   ]
  },
  {
   "cell_type": "code",
   "execution_count": 3,
   "metadata": {},
   "outputs": [
    {
     "name": "stdout",
     "output_type": "stream",
     "text": [
      "11\n"
     ]
    }
   ],
   "source": [
    "list=[1,4,6]\n",
    "b=sum(list)\n",
    "print(b)"
   ]
  },
  {
   "cell_type": "code",
   "execution_count": 4,
   "metadata": {},
   "outputs": [
    {
     "name": "stdout",
     "output_type": "stream",
     "text": [
      "99\n"
     ]
    }
   ],
   "source": [
    "list=[4,6,99]\n",
    "b=max(list)\n",
    "print(b)"
   ]
  },
  {
   "cell_type": "code",
   "execution_count": null,
   "metadata": {},
   "outputs": [],
   "source": []
  }
 ],
 "metadata": {
  "kernelspec": {
   "display_name": "Python 3",
   "language": "python",
   "name": "python3"
  },
  "language_info": {
   "codemirror_mode": {
    "name": "ipython",
    "version": 3
   },
   "file_extension": ".py",
   "mimetype": "text/x-python",
   "name": "python",
   "nbconvert_exporter": "python",
   "pygments_lexer": "ipython3",
   "version": "3.7.4"
  }
 },
 "nbformat": 4,
 "nbformat_minor": 2
}
