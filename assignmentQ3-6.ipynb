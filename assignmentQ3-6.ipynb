{
 "cells": [
  {
   "cell_type": "code",
   "execution_count": 2,
   "metadata": {},
   "outputs": [
    {
     "name": "stdout",
     "output_type": "stream",
     "text": [
      "2019-11-05 05:28:20\n"
     ]
    }
   ],
   "source": [
    "#Q3\n",
    "import datetime\n",
    "now= datetime.datetime.now()\n",
    "print (now.strftime(\"%Y-%m-%d %H:%M:%S\"))"
   ]
  },
  {
   "cell_type": "code",
   "execution_count": 3,
   "metadata": {},
   "outputs": [
    {
     "name": "stdout",
     "output_type": "stream",
     "text": [
      "enter the radius in cm4\n",
      "50.24 cm2\n"
     ]
    }
   ],
   "source": [
    "#Q4\n",
    "py = 3.14\n",
    "r=float(input(\"enter the radius in cm\"))\n",
    "area = py*r*r\n",
    "print(\"%.2f cm2\"%area)"
   ]
  },
  {
   "cell_type": "code",
   "execution_count": 4,
   "metadata": {},
   "outputs": [
    {
     "name": "stdout",
     "output_type": "stream",
     "text": [
      "Enter first nameMahnoor\n",
      "Enter last nameNaveed\n",
      "Naveed  Mahnoor\n"
     ]
    }
   ],
   "source": [
    "#Q5\n",
    "a= input(\"Enter first name\")\n",
    "b= input(\"Enter last name\")\n",
    "print (b,\"\",a)"
   ]
  },
  {
   "cell_type": "code",
   "execution_count": null,
   "metadata": {},
   "outputs": [],
   "source": [
    "#Q6\n",
    "a= input (\"Enter first Number\")\n",
    "b= input (\"Enter second Number\")\n",
    "c =a+b\n",
    "print (c)"
   ]
  }
 ],
 "metadata": {
  "kernelspec": {
   "display_name": "Python 3",
   "language": "python",
   "name": "python3"
  },
  "language_info": {
   "codemirror_mode": {
    "name": "ipython",
    "version": 3
   },
   "file_extension": ".py",
   "mimetype": "text/x-python",
   "name": "python",
   "nbconvert_exporter": "python",
   "pygments_lexer": "ipython3",
   "version": "3.7.4"
  }
 },
 "nbformat": 4,
 "nbformat_minor": 2
}
