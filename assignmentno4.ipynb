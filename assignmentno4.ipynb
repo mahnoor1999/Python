{
 "cells": [
  {
   "cell_type": "code",
   "execution_count": 1,
   "metadata": {},
   "outputs": [
    {
     "name": "stdout",
     "output_type": "stream",
     "text": [
      "{'firstname': 'Mahnoor', 'lastname': 'Naveed', 'age': '20', 'city': 'karachi'}\n",
      "{'firstname': 'Mahnoor', 'lastname': 'Naveed', 'age': '20', 'city': 'karachi', 'qualification': 'Inter'}\n",
      "{'firstname': 'Mahnoor', 'lastname': 'Naveed', 'age': '20', 'city': 'karachi', 'High Academic Value': 'Inter'}\n",
      "{'firstname': 'Mahnoor', 'lastname': 'Naveed', 'age': '20', 'city': 'karachi'}\n"
     ]
    }
   ],
   "source": [
    "information={\"firstname\": \"Mahnoor\",\"lastname\" :\"Naveed\",\"age\" : \"20\", \"city\":\"karachi\"}\n",
    "\n",
    "print(information)\n",
    "information[\"qualification\"]= \"Inter\"\n",
    "print(information)\n",
    "information[\"High Academic Value\"]= information.pop(\"qualification\")\n",
    "print(information)\n",
    "del information [\"High Academic Value\"]\n",
    "print(information)\n",
    "\n"
   ]
  },
  {
   "cell_type": "code",
   "execution_count": 1,
   "metadata": {},
   "outputs": [
    {
     "name": "stdout",
     "output_type": "stream",
     "text": [
      "{'karachi', 'multan', 'lahore'}\n",
      "{'city name': 'lahore', 'country name': 'Pakistan', 'Population': '11.13 million', 'Fact': 'second largest city in pakistan'}\n"
     ]
    }
   ],
   "source": [
    "cities={\"lahore\",\"multan\", \"karachi\"}\n",
    "\n",
    "print(cities)\n",
    "information_city1={\"city name\":\"karachi\",\"country name\":\"Pakistan\", \"Population\":\"14.91 million\",\"Fact\":\"sisxth largest city in the world\"}\n",
    "information_city2={\"city name\":\"lahore\",\"country name\":\"Pakistan\", \"Population\":\"11.13 million\",\"Fact\":\"second largest city in pakistan\"}\n",
    "information_city3={\"city name\":\"Multan\",\"country name\":\"Pakistan\", \"Population\":\"1.872 million\",\"Fact\":\"halwaa is so famous\"}\n",
    "print(information_city2)"
   ]
  },
  {
   "cell_type": "code",
   "execution_count": 2,
   "metadata": {},
   "outputs": [
    {
     "name": "stdout",
     "output_type": "stream",
     "text": [
      "enter age16\n",
      "Ticket price is $15\n"
     ]
    }
   ],
   "source": [
    "age=int(input(\"enter age\"))\n",
    "if (age< 3):\n",
    "    print(\"Ticket is free\")\n",
    "elif (age <= 3 or age <= 12):\n",
    "        print (\"Ticket price is 10$\")\n",
    "elif (age>12):\n",
    "        print(\"Ticket price is $15\")\n",
    "else:\n",
    "            print(\"Enter age in figures\")"
   ]
  },
  {
   "cell_type": "code",
   "execution_count": 3,
   "metadata": {},
   "outputs": [
    {
     "name": "stdout",
     "output_type": "stream",
     "text": [
      "Alice in Wonderland\n"
     ]
    }
   ],
   "source": [
    "def book(a):\n",
    "     print (a)\n",
    "book(\"Alice in Wonderland\")"
   ]
  },
  {
   "cell_type": "code",
   "execution_count": null,
   "metadata": {},
   "outputs": [
    {
     "name": "stdout",
     "output_type": "stream",
     "text": [
      "Guess a number through one to thirty14\n",
      "too low\n"
     ]
    }
   ],
   "source": [
    "import random\n",
    "it=random.randint(1, 30)\n",
    "def game():\n",
    "    x=int(input('Guess a number through one to thirty'))\n",
    "    if x == it:\n",
    "        print(\"You got it\")\n",
    "    elif x > it:\n",
    "        print(\"too high\")\n",
    "        main()\n",
    "    else:\n",
    "        print(\"too low\")\n",
    "        game()\n",
    "game()"
   ]
  },
  {
   "cell_type": "code",
   "execution_count": null,
   "metadata": {},
   "outputs": [],
   "source": []
  },
  {
   "cell_type": "code",
   "execution_count": null,
   "metadata": {},
   "outputs": [],
   "source": []
  }
 ],
 "metadata": {
  "kernelspec": {
   "display_name": "Python 3",
   "language": "python",
   "name": "python3"
  },
  "language_info": {
   "codemirror_mode": {
    "name": "ipython",
    "version": 3
   },
   "file_extension": ".py",
   "mimetype": "text/x-python",
   "name": "python",
   "nbconvert_exporter": "python",
   "pygments_lexer": "ipython3",
   "version": "3.7.4"
  }
 },
 "nbformat": 4,
 "nbformat_minor": 2
}
