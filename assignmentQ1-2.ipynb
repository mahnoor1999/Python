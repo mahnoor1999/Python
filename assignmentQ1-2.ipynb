{
 "cells": [
  {
   "cell_type": "code",
   "execution_count": 8,
   "metadata": {},
   "outputs": [
    {
     "name": "stdout",
     "output_type": "stream",
     "text": [
      "   Twinkle, twinkle, little star\n",
      "          How I wonder what you are!\n",
      "              Up above the world so high,\n",
      "              Like a diamond in the sky.\n",
      "    Twinkle, twinkle, little star,\n",
      "          How I wonder what you are!\n"
     ]
    }
   ],
   "source": [
    "print(\"   Twinkle, twinkle, little star\")\n",
    "print(\"          How I wonder what you are!\")\n",
    "print(\"              Up above the world so high,\")\n",
    "print(\"              Like a diamond in the sky.\")\n",
    "print(\"    Twinkle, twinkle, little star,\")\n",
    "print(\"          How I wonder what you are!\")"
   ]
  },
  {
   "cell_type": "code",
   "execution_count": 7,
   "metadata": {},
   "outputs": [
    {
     "name": "stdout",
     "output_type": "stream",
     "text": [
      "3.7.4 (default, Aug  9 2019, 18:34:13) [MSC v.1915 64 bit (AMD64)]\n",
      "sys.version_info(major=3, minor=7, micro=4, releaselevel='final', serial=0)\n"
     ]
    }
   ],
   "source": [
    "#Q2\n",
    "import sys\n",
    "print(sys.version)\n",
    "print(sys.version_info)\n"
   ]
  }
 ],
 "metadata": {
  "kernelspec": {
   "display_name": "Python 3",
   "language": "python",
   "name": "python3"
  },
  "language_info": {
   "codemirror_mode": {
    "name": "ipython",
    "version": 3
   },
   "file_extension": ".py",
   "mimetype": "text/x-python",
   "name": "python",
   "nbconvert_exporter": "python",
   "pygments_lexer": "ipython3",
   "version": "3.7.4"
  }
 },
 "nbformat": 4,
 "nbformat_minor": 2
}
